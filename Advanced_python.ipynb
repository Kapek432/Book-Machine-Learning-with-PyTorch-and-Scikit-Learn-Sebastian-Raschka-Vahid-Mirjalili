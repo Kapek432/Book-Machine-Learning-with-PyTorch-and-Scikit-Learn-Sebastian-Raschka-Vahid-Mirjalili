{
  "nbformat": 4,
  "nbformat_minor": 0,
  "metadata": {
    "colab": {
      "provenance": [],
      "authorship_tag": "ABX9TyMv7Ic1tziqQq9tSiz7Kx1K",
      "include_colab_link": true
    },
    "kernelspec": {
      "name": "python3",
      "display_name": "Python 3"
    },
    "language_info": {
      "name": "python"
    }
  },
  "cells": [
    {
      "cell_type": "markdown",
      "metadata": {
        "id": "view-in-github",
        "colab_type": "text"
      },
      "source": [
        "<a href=\"https://colab.research.google.com/github/Kapek432/Book-Machine-Learning-with-PyTorch-and-Scikit-Learn-Sebastian-Raschka-Vahid-Mirjalili/blob/main/Advanced_python.ipynb\" target=\"_parent\"><img src=\"https://colab.research.google.com/assets/colab-badge.svg\" alt=\"Open In Colab\"/></a>"
      ]
    },
    {
      "cell_type": "markdown",
      "source": [
        "# 1. Magic Methods & Dunder"
      ],
      "metadata": {
        "id": "8zc0lulvCOPk"
      }
    },
    {
      "cell_type": "code",
      "execution_count": 1,
      "metadata": {
        "id": "tfAKWJnwCFSf"
      },
      "outputs": [],
      "source": [
        "class Vector:\n",
        "    \"\"\"Initialize the vector with components\"\"\"\n",
        "    def __init__(self, *components):\n",
        "        self.components = components\n",
        "        self.length = len(components)\n",
        "\n",
        "    def __del__(self):\n",
        "        print(\"Vector object deleted\")\n",
        "\n",
        "    # 1. __repr__ - Official string representation\n",
        "    def __repr__(self):\n",
        "        return f\"Vector by __repr__: {self.components}\"\n",
        "\n",
        "    # 2. __str__ - Informal string representation\n",
        "    def __str__(self):\n",
        "        return f\"Vector by __str__: {self.components}\"\n",
        "\n",
        "    # 3. __len__ - Length of the vector (number of dimensions)\n",
        "    def __len__(self):\n",
        "        return self.dimensions\n",
        "\n",
        "    # 4. __getitem__ - Indexing support\n",
        "    def __getitem__(self, index):\n",
        "        return self.components[index]\n",
        "\n",
        "    # 5. __setitem__ - Assignment to indices\n",
        "    def __setitem__(self, index, value):\n",
        "        temp = list(self.components)\n",
        "        temp[index] = value\n",
        "        self.components = tuple(temp)\n",
        "\n",
        "    # 6. __add__ - Vector addition\n",
        "    def __add__(self, other):\n",
        "        if len(self) != len(other):\n",
        "            raise ValueError(\"Vectors must be of same dimension\")\n",
        "        return Vector(*(a + b for a, b in zip(self, other))) # Without the *, we rae passing the entire generator as a single argument:\n",
        "\n",
        "    # 7. __sub__ - Vector subtraction\n",
        "    def __sub__(self, other):\n",
        "        if len(self) != len(other):\n",
        "            raise ValueError(\"Vectors must be of same dimension\")\n",
        "        return Vector(*(a - b for a, b in zip(self, other)))\n",
        "\n",
        "    # 8. __mul__ - Scalar multiplication or dot product\n",
        "    def __mul__(self, other):\n",
        "        if isinstance(other, (int, float)):\n",
        "            return Vector(*(a * other for a in self))\n",
        "        elif isinstance(other, Vector):\n",
        "            if len(self) != len(other):\n",
        "                raise ValueError(\"Vectors must be of same dimension\")\n",
        "            return sum(a * b for a, b in zip(self, other))\n",
        "        else:\n",
        "            raise TypeError(\"Operand must be scalar or Vector\")\n",
        "\n",
        "    # 9. __rmul__ - Reverse multiplication (scalar * vector)\n",
        "    def __rmul__(self, other):\n",
        "        return self.__mul__(other)\n",
        "\n",
        "    # 10. __truediv__ - Division by scalar\n",
        "    def __truediv__(self, scalar):\n",
        "        if isinstance(scalar, (int, float)):\n",
        "            if scalar == 0:\n",
        "                raise ZeroDivisionError(\"Cannot divide by zero\")\n",
        "            return Vector(*(a / scalar for a in self))\n",
        "        raise TypeError(\"Can only divide by scalar\")\n",
        "\n",
        "    # 11. __eq__ - Equality comparison\n",
        "    def __eq__(self, other):\n",
        "        if not isinstance(other, Vector):\n",
        "            return False\n",
        "        return self.components == other.components\n",
        "\n",
        "    # 12. __ne__ - Not equal comparison (often auto-generated from __eq__)\n",
        "    def __ne__(self, other):\n",
        "        return not self.__eq__(other)\n",
        "\n",
        "    # 13. __abs__ - Magnitude of the vector\n",
        "    def __abs__(self):\n",
        "        return sum(a**2 for a in self)**0.5\n",
        "\n",
        "    # 14. __bool__ - Truthiness (non-zero vector)\n",
        "    def __bool__(self):\n",
        "        return any(a != 0 for a in self.components)\n",
        "\n",
        "    # 15. __neg__ - Unary negation\n",
        "    def __neg__(self):\n",
        "        return Vector(*(-a for a in self))\n",
        "\n",
        "    # 16. __pos__ - Unary positive\n",
        "    def __pos__(self):\n",
        "        return Vector(*self.components)\n",
        "\n",
        "    # 17. __iter__ - Make vector iterable\n",
        "    def __iter__(self):\n",
        "        return iter(self.components)\n",
        "\n",
        "    # 18. __contains__ - Check if value is in components\n",
        "    def __contains__(self, item):\n",
        "        return item in self.components\n",
        "\n",
        "    # 19. __call__ - Callable behavior (could return magnitude)\n",
        "    def __call__(self):\n",
        "        return abs(self)\n",
        "\n",
        "    # 20. __hash__ - Make vector hashable (immutable)\n",
        "    def __hash__(self):\n",
        "        return hash(self.components)"
      ]
    },
    {
      "cell_type": "markdown",
      "source": [
        "## Most Important Magic (Dunder) Methods in Python\n",
        "\n",
        "Magic methods (also called dunder methods because they're surrounded by double underscores) allow you to define how objects of your class interact with Python's built-in operations. Here are the most important ones categorized by functionality:\n",
        "\n",
        "## 1. Object Creation & Initialization\n",
        "- `__new__(cls, ...)`: Controls instance creation (called before `__init__`)\n",
        "- `__init__(self, ...)`: Constructor - initializes new objects\n",
        "- `__del__(self)`: Destructor - called when object is about to be destroyed\n",
        "\n",
        "## 2. String Representation\n",
        "- `__str__(self)`: Informal string representation (`str(obj)`, `print(obj)`)\n",
        "- `__repr__(self)`: Official string representation (used in REPL, should be unambiguous)\n",
        "- `__format__(self, format_spec)`: Custom string formatting (`format(obj, spec)`)\n",
        "\n",
        "## 3. Container/Sequence Behavior\n",
        "- `__len__(self)`: Returns length (`len(obj)`)\n",
        "- `__getitem__(self, key)`: Indexing (`obj[key]`)\n",
        "- `__setitem__(self, key, value)`: Assignment to index (`obj[key] = value`)\n",
        "- `__delitem__(self, key)`: Deletion (`del obj[key]`)\n",
        "- `__contains__(self, item)`: Membership test (`item in obj`)\n",
        "\n",
        "## 4. Numeric Operations\n",
        "- `__add__(self, other)`: Addition (`obj + other`)\n",
        "- `__sub__(self, other)`: Subtraction (`obj - other`)\n",
        "- `__mul__(self, other)`: Multiplication (`obj * other`)\n",
        "- `__truediv__(self, other)`: True division (`obj / other`)\n",
        "- `__floordiv__(self, other)`: Floor division (`obj // other`)\n",
        "- `__mod__(self, other)`: Modulo (`obj % other`)\n",
        "- `__pow__(self, other)`: Exponentiation (`obj ** other`)\n",
        "- `__abs__(self)`: Absolute value (`abs(obj)`)\n",
        "\n",
        "## 5. Comparison Operators\n",
        "- `__eq__(self, other)`: Equality (`obj == other`)\n",
        "- `__ne__(self, other)`: Inequality (`obj != other`)\n",
        "- `__lt__(self, other)`: Less than (`obj < other`)\n",
        "- `__le__(self, other)`: Less than or equal (`obj <= other`)\n",
        "- `__gt__(self, other)`: Greater than (`obj > other`)\n",
        "- `__ge__(self, other)`: Greater than or equal (`obj >= other`)\n",
        "\n",
        "## 6. Type Conversion\n",
        "- `__int__(self)`: Convert to integer (`int(obj)`)\n",
        "- `__float__(self)`: Convert to float (`float(obj)`)\n",
        "- `__bool__(self)`: Truth value testing (`bool(obj)`)\n",
        "\n",
        "## 7. Callable Objects\n",
        "- `__call__(self, ...)`: Makes instances callable (`obj()`)\n",
        "\n",
        "## 8. Context Managers\n",
        "- `__enter__(self)`: Called at start of `with` block\n",
        "- `__exit__(self, exc_type, exc_val, exc_tb)`: Called at end of `with` block\n",
        "\n",
        "## 9. Attribute Access\n",
        "- `__getattr__(self, name)`: Called when attribute doesn't exist\n",
        "- `__setattr__(self, name, value)`: Called on all attribute assignment\n",
        "- `__delattr__(self, name)`: Called on attribute deletion\n",
        "\n",
        "## 10. Iteration\n",
        "- `__iter__(self)`: Returns iterator object (`for x in obj`)\n",
        "- `__next__(self)`: Returns next item (in iterator)\n",
        "\n",
        "## 11. Descriptors\n",
        "- `__get__(self, instance, owner)`: Descriptor getter\n",
        "- `__set__(self, instance, value)`: Descriptor setter\n",
        "- `__delete__(self, instance)`: Descriptor deleter\n",
        "\n",
        "## Most Critical for Most Classes\n",
        "For most classes, these are the most essential magic methods to implement:\n",
        "1. `__init__` - Initialization\n",
        "2. `__repr__` - String representation\n",
        "3. `__str__` - User-friendly string\n",
        "4. `__eq__` - Equality comparison\n",
        "5. `__hash__` - For making objects hashable (if immutable)\n",
        "\n",
        "These magic methods are what make Python's object model so flexible and powerful, allowing your custom objects to behave like built-in types."
      ],
      "metadata": {
        "id": "xJf4VK4AGuOK"
      }
    },
    {
      "cell_type": "markdown",
      "source": [
        "# 2.Decorators"
      ],
      "metadata": {
        "id": "EbLuchRJHGx4"
      }
    },
    {
      "cell_type": "markdown",
      "source": [
        "## 1. Example"
      ],
      "metadata": {
        "id": "O7xsk0YQJIm4"
      }
    },
    {
      "cell_type": "code",
      "source": [
        "def decorator_function(n=20):\n",
        "    def decorator(func):\n",
        "        def wrapper():\n",
        "            print(n * '-')\n",
        "            func()\n",
        "            print(n * '-')\n",
        "        return wrapper\n",
        "    return decorator\n",
        "\n",
        "@decorator_function(25)\n",
        "def hello_world():\n",
        "    print('Hello world')\n",
        "\n",
        "hello_world()"
      ],
      "metadata": {
        "colab": {
          "base_uri": "https://localhost:8080/"
        },
        "id": "5WxxkycHCm89",
        "outputId": "2a27e419-5b16-4fd7-c2b8-6b977e99c72b"
      },
      "execution_count": 2,
      "outputs": [
        {
          "output_type": "stream",
          "name": "stdout",
          "text": [
            "-------------------------\n",
            "Hello world\n",
            "-------------------------\n"
          ]
        }
      ]
    },
    {
      "cell_type": "markdown",
      "source": [
        "## 2. Basic decorator"
      ],
      "metadata": {
        "id": "P3905HZrJaZW"
      }
    },
    {
      "cell_type": "code",
      "source": [
        "def simple_decorator(func):\n",
        "    def wrapper():\n",
        "        print(\"Before function call\")\n",
        "        func()\n",
        "        print(\"After function call\")\n",
        "    return wrapper\n",
        "\n",
        "@simple_decorator\n",
        "def greet():\n",
        "    print(\"Hello!\")\n",
        "\n",
        "greet()"
      ],
      "metadata": {
        "colab": {
          "base_uri": "https://localhost:8080/"
        },
        "id": "E0cFiGT8Jfkm",
        "outputId": "6e9a13bf-69c0-444d-fd47-20cbff2898a9"
      },
      "execution_count": 3,
      "outputs": [
        {
          "output_type": "stream",
          "name": "stdout",
          "text": [
            "Before function call\n",
            "Hello!\n",
            "After function call\n"
          ]
        }
      ]
    },
    {
      "cell_type": "markdown",
      "source": [
        "## 3. With arguments"
      ],
      "metadata": {
        "id": "rwUZ6Gs5JmoG"
      }
    },
    {
      "cell_type": "code",
      "source": [
        "def repeat(num_times):\n",
        "    def decorator(func):\n",
        "        def wrapper(*args, **kwargs):\n",
        "            for _ in range(num_times):\n",
        "                result = func(*args, **kwargs)\n",
        "            return result\n",
        "        return wrapper\n",
        "    return decorator\n",
        "\n",
        "@repeat(num_times=3)\n",
        "def say_hello(name):\n",
        "    print(f\"Hello {name}\")\n",
        "\n",
        "say_hello(\"Alice\")"
      ],
      "metadata": {
        "colab": {
          "base_uri": "https://localhost:8080/"
        },
        "id": "1c6sZQMdJmve",
        "outputId": "d6a5d1ed-1ba1-4f08-945f-e1ed5cfbb48c"
      },
      "execution_count": 4,
      "outputs": [
        {
          "output_type": "stream",
          "name": "stdout",
          "text": [
            "Hello Alice\n",
            "Hello Alice\n",
            "Hello Alice\n"
          ]
        }
      ]
    },
    {
      "cell_type": "markdown",
      "source": [
        "## 4. Many arguments"
      ],
      "metadata": {
        "id": "aD-tpCMzsnEj"
      }
    },
    {
      "cell_type": "code",
      "source": [
        "def log_arguments(func):\n",
        "    def wrapper(*args, **kwargs):\n",
        "        print(f\"Arguments: {args}, Keyword arguments: {kwargs}\")\n",
        "        return func(*args, **kwargs)\n",
        "    return wrapper\n",
        "\n",
        "@log_arguments\n",
        "def add(a, b):\n",
        "    return a + b\n",
        "\n",
        "result = add(3, b=5)\n",
        "print(f\"Result: {result}\")"
      ],
      "metadata": {
        "colab": {
          "base_uri": "https://localhost:8080/"
        },
        "id": "39djjVvYsnNW",
        "outputId": "435eb0bb-241b-4b0e-c177-fe6100938dfe"
      },
      "execution_count": 5,
      "outputs": [
        {
          "output_type": "stream",
          "name": "stdout",
          "text": [
            "Arguments: (3,), Keyword arguments: {'b': 5}\n",
            "Result: 8\n"
          ]
        }
      ]
    },
    {
      "cell_type": "markdown",
      "source": [
        "## 5. Cached memory"
      ],
      "metadata": {
        "id": "rAAcoEJusnVM"
      }
    },
    {
      "cell_type": "code",
      "source": [
        "def cache(func):\n",
        "    cached_results = {}\n",
        "    def wrapper(*args):\n",
        "        if args in cached_results:\n",
        "            print(\"Returning cached result\")\n",
        "            return cached_results[args]\n",
        "        result = func(*args)\n",
        "        cached_results[args] = result\n",
        "        return result\n",
        "    return wrapper\n",
        "\n",
        "@cache\n",
        "def fibonacci(n):\n",
        "    if n < 2:\n",
        "        return n\n",
        "    return fibonacci(n-1) + fibonacci(n-2)\n",
        "\n",
        "print(fibonacci(10))"
      ],
      "metadata": {
        "colab": {
          "base_uri": "https://localhost:8080/"
        },
        "id": "lwFCq_lPsnbG",
        "outputId": "be86779b-58fa-4d55-f6be-486c624cf92d"
      },
      "execution_count": 6,
      "outputs": [
        {
          "output_type": "stream",
          "name": "stdout",
          "text": [
            "Returning cached result\n",
            "Returning cached result\n",
            "Returning cached result\n",
            "Returning cached result\n",
            "Returning cached result\n",
            "Returning cached result\n",
            "Returning cached result\n",
            "Returning cached result\n",
            "55\n"
          ]
        }
      ]
    },
    {
      "cell_type": "markdown",
      "source": [
        "## 6. Validating input"
      ],
      "metadata": {
        "id": "1i8plgGrsnhT"
      }
    },
    {
      "cell_type": "code",
      "source": [
        "def validate_input(*validators):\n",
        "    def decorator(func):\n",
        "        def wrapper(*args, **kwargs):\n",
        "            for i, (arg, validator) in enumerate(zip(args, validators)):\n",
        "                if not validator(arg):\n",
        "                    raise ValueError(f\"Argument {i} is invalid\")\n",
        "            return func(*args, **kwargs)\n",
        "        return wrapper\n",
        "    return decorator\n",
        "\n",
        "@validate_input(lambda x: x > 0, lambda x: isinstance(x, str))\n",
        "def process_data(num, text):\n",
        "    print(f\"Processing {num} and '{text}'\")\n",
        "\n",
        "process_data(10, \"hello\")"
      ],
      "metadata": {
        "colab": {
          "base_uri": "https://localhost:8080/"
        },
        "id": "ZtM6766jsnmx",
        "outputId": "68be7582-0712-4f6b-9fbd-6f1e4bb9ba04"
      },
      "execution_count": 7,
      "outputs": [
        {
          "output_type": "stream",
          "name": "stdout",
          "text": [
            "Processing 10 and 'hello'\n"
          ]
        }
      ]
    },
    {
      "cell_type": "markdown",
      "source": [
        "## 6. Singleton"
      ],
      "metadata": {
        "id": "jcZCeTqssnsx"
      }
    },
    {
      "cell_type": "code",
      "source": [
        "def singleton(cls):\n",
        "    instances = {}\n",
        "    def wrapper(*args, **kwargs):\n",
        "        if cls not in instances:\n",
        "            instances[cls] = cls(*args, **kwargs)\n",
        "        return instances[cls]\n",
        "    return wrapper\n",
        "\n",
        "@singleton\n",
        "class Database:\n",
        "    def __init__(self):\n",
        "        print(\"Initializing database\")\n",
        "\n",
        "db1 = Database()\n",
        "db2 = Database()\n",
        "print(db1 is db2)  # True"
      ],
      "metadata": {
        "colab": {
          "base_uri": "https://localhost:8080/"
        },
        "id": "ZM5uJ_8jsnx5",
        "outputId": "51f3d80d-3a1f-419c-e8e2-d25805536674"
      },
      "execution_count": 8,
      "outputs": [
        {
          "output_type": "stream",
          "name": "stdout",
          "text": [
            "Initializing database\n",
            "True\n"
          ]
        }
      ]
    },
    {
      "cell_type": "markdown",
      "source": [
        "## 7. Many tries"
      ],
      "metadata": {
        "id": "iLgfuINpsn3M"
      }
    },
    {
      "cell_type": "code",
      "source": [
        "import random\n",
        "from time import sleep\n",
        "\n",
        "def retry(max_attempts=3, delay=1):\n",
        "    def decorator(func):\n",
        "        def wrapper(*args, **kwargs):\n",
        "            attempts = 0\n",
        "            while attempts < max_attempts:\n",
        "                try:\n",
        "                    return func(*args, **kwargs)\n",
        "                except Exception as e:\n",
        "                    attempts += 1\n",
        "                    print(f\"Attempt {attempts} failed: {e}\")\n",
        "                    if attempts < max_attempts:\n",
        "                        sleep(delay)\n",
        "            raise Exception(\"Max retries exceeded\")\n",
        "        return wrapper\n",
        "    return decorator\n",
        "\n",
        "@retry(max_attempts=2, delay=0.5)\n",
        "def unreliable_function():\n",
        "    if random.random() < 0.7:\n",
        "        raise ValueError(\"Random failure\")\n",
        "    return \"Success\"\n",
        "\n",
        "print(unreliable_function())"
      ],
      "metadata": {
        "colab": {
          "base_uri": "https://localhost:8080/"
        },
        "id": "Rqn0sx1wsn8z",
        "outputId": "8a6b7042-2cbb-40db-9a55-6de6de5f09a8"
      },
      "execution_count": 11,
      "outputs": [
        {
          "output_type": "stream",
          "name": "stdout",
          "text": [
            "Success\n"
          ]
        }
      ]
    },
    {
      "cell_type": "markdown",
      "source": [
        "## 8. In functions"
      ],
      "metadata": {
        "id": "0sjVlO56soBj"
      }
    },
    {
      "cell_type": "code",
      "source": [
        "class Circle:\n",
        "    def __init__(self, radius):\n",
        "        self._radius = radius\n",
        "\n",
        "    @property\n",
        "    def radius(self):\n",
        "        return self._radius\n",
        "\n",
        "    @radius.setter\n",
        "    def radius(self, value):\n",
        "        if value <= 0:\n",
        "            raise ValueError(\"Radius must be positive\")\n",
        "        self._radius = value\n",
        "\n",
        "    @property\n",
        "    def area(self):\n",
        "        return 3.14 * self._radius ** 2\n",
        "\n",
        "c = Circle(5)\n",
        "print(c.area)  # 78.5"
      ],
      "metadata": {
        "colab": {
          "base_uri": "https://localhost:8080/"
        },
        "id": "cCGxs9ctsoG-",
        "outputId": "baf6e433-22a5-4732-b326-b70aa5d60fe0"
      },
      "execution_count": 12,
      "outputs": [
        {
          "output_type": "stream",
          "name": "stdout",
          "text": [
            "78.5\n"
          ]
        }
      ]
    },
    {
      "cell_type": "markdown",
      "source": [
        "## 9. Flexible"
      ],
      "metadata": {
        "id": "R9_aLBpIsoMe"
      }
    },
    {
      "cell_type": "code",
      "source": [
        "def flexible_decorator(func=None, *, prefix=\"DEBUG:\"):\n",
        "    def decorator(f):\n",
        "        def wrapper(*args, **kwargs):\n",
        "            print(f\"{prefix} Calling {f.__name__}\")\n",
        "            return f(*args, **kwargs)\n",
        "        return wrapper\n",
        "\n",
        "    if func is None:\n",
        "        return decorator\n",
        "    return decorator(func)\n",
        "\n",
        "# Usage 1: Without parameters\n",
        "@flexible_decorator\n",
        "def func1():\n",
        "    print(\"Function 1\")\n",
        "\n",
        "# Usage 2: With parameters\n",
        "@flexible_decorator(prefix=\"INFO:\")\n",
        "def func2():\n",
        "    print(\"Function 2\")\n",
        "\n",
        "func1()\n",
        "func2()"
      ],
      "metadata": {
        "colab": {
          "base_uri": "https://localhost:8080/"
        },
        "id": "fDacIwxhsoSE",
        "outputId": "5d25aa61-4504-40f5-b076-02b045c44fcb"
      },
      "execution_count": 13,
      "outputs": [
        {
          "output_type": "stream",
          "name": "stdout",
          "text": [
            "DEBUG: Calling func1\n",
            "Function 1\n",
            "INFO: Calling func2\n",
            "Function 2\n"
          ]
        }
      ]
    },
    {
      "cell_type": "markdown",
      "source": [
        "## Practical example 1 - logging"
      ],
      "metadata": {
        "id": "llRxUQUfJm1o"
      }
    },
    {
      "cell_type": "code",
      "source": [
        "def logged(function):\n",
        "    def wrapper(*args, **kwargs):\n",
        "        value = function(*args, **kwargs)\n",
        "        with open(\"output.log\", \"a\") as f:\n",
        "            print(f\"{function.__name__} returned {value}\")\n",
        "            f.write(f\"{function.__name__} returned {value}\\n\")\n",
        "        return value\n",
        "    return wrapper\n",
        "\n",
        "@logged\n",
        "def add(x, y):\n",
        "    return x + y\n",
        "\n",
        "result = add(2, 3)"
      ],
      "metadata": {
        "colab": {
          "base_uri": "https://localhost:8080/"
        },
        "id": "hJihTle8Jm7t",
        "outputId": "49c1375c-4750-4b8d-ac32-cbbdcfb1265b"
      },
      "execution_count": 14,
      "outputs": [
        {
          "output_type": "stream",
          "name": "stdout",
          "text": [
            "add returned 5\n"
          ]
        }
      ]
    },
    {
      "cell_type": "markdown",
      "source": [
        "## Practical example 2 - timing"
      ],
      "metadata": {
        "id": "f7AUwzZ2JnAu"
      }
    },
    {
      "cell_type": "code",
      "source": [
        "import time\n",
        "\n",
        "def timed(function):\n",
        "    def wrapper(*args, **kwargs):\n",
        "        start_time = time.time()\n",
        "        value = function(*args, **kwargs)\n",
        "        end_time = time.time()\n",
        "        print(f\"{function.__name__} took {end_time - start_time:.4f} seconds to run\")\n",
        "        return value\n",
        "    return wrapper\n",
        "\n",
        "@timed\n",
        "def long_running_function():\n",
        "    time.sleep(2)\n",
        "\n",
        "long_running_function()"
      ],
      "metadata": {
        "colab": {
          "base_uri": "https://localhost:8080/"
        },
        "id": "niNDcpUWJnGo",
        "outputId": "389eeb9c-153c-49fb-fdb0-69ba599e983f"
      },
      "execution_count": 15,
      "outputs": [
        {
          "output_type": "stream",
          "name": "stdout",
          "text": [
            "long_running_function took 2.0001 seconds to run\n"
          ]
        }
      ]
    },
    {
      "cell_type": "markdown",
      "source": [
        "# 3.Generators"
      ],
      "metadata": {
        "id": "I6KjRqoTJnuI"
      }
    },
    {
      "cell_type": "code",
      "source": [
        "def count_up_to(max):\n",
        "    count = 1\n",
        "    while count <= max:\n",
        "        yield count\n",
        "        count += 1\n",
        "\n",
        "counter = count_up_to(5)\n",
        "for num in counter:\n",
        "    print(num)  # 1, 2, 3, 4, 5"
      ],
      "metadata": {
        "colab": {
          "base_uri": "https://localhost:8080/"
        },
        "id": "n6TkbdhpSCmX",
        "outputId": "afda0fa6-7801-4168-9d92-82cd52d8cb40"
      },
      "execution_count": 16,
      "outputs": [
        {
          "output_type": "stream",
          "name": "stdout",
          "text": [
            "1\n",
            "2\n",
            "3\n",
            "4\n",
            "5\n"
          ]
        }
      ]
    },
    {
      "cell_type": "code",
      "source": [
        "def infinite_sequence():\n",
        "    num = 0\n",
        "    while True:\n",
        "        yield num\n",
        "        num += 1\n",
        "\n",
        "gen = infinite_sequence()\n",
        "print(next(gen))  # 0\n",
        "print(next(gen))  # 1\n",
        "# Can be used for unique ID generation"
      ],
      "metadata": {
        "colab": {
          "base_uri": "https://localhost:8080/"
        },
        "id": "TXgRo89HTo6O",
        "outputId": "d190d063-9ae5-4fe9-b840-e8efac91d5e5"
      },
      "execution_count": 17,
      "outputs": [
        {
          "output_type": "stream",
          "name": "stdout",
          "text": [
            "0\n",
            "1\n"
          ]
        }
      ]
    },
    {
      "cell_type": "code",
      "source": [
        "def read_large_file(file_path):\n",
        "    with open(file_path, 'r') as file:\n",
        "        for line in file:\n",
        "            yield line.strip()\n",
        "\n",
        "# Processes huge files without loading entire file into memory\n",
        "for line in read_large_file('large_data.txt'):\n",
        "    print(line)"
      ],
      "metadata": {
        "id": "mZvS1AFxuuyL",
        "colab": {
          "base_uri": "https://localhost:8080/",
          "height": 315
        },
        "collapsed": true,
        "outputId": "95c84693-10f7-44f1-db8c-d205774264fc"
      },
      "execution_count": 18,
      "outputs": [
        {
          "output_type": "error",
          "ename": "FileNotFoundError",
          "evalue": "[Errno 2] No such file or directory: 'large_data.txt'",
          "traceback": [
            "\u001b[0;31m---------------------------------------------------------------------------\u001b[0m",
            "\u001b[0;31mFileNotFoundError\u001b[0m                         Traceback (most recent call last)",
            "\u001b[0;32m<ipython-input-18-8d5496b3b5b0>\u001b[0m in \u001b[0;36m<cell line: 0>\u001b[0;34m()\u001b[0m\n\u001b[1;32m      5\u001b[0m \u001b[0;34m\u001b[0m\u001b[0m\n\u001b[1;32m      6\u001b[0m \u001b[0;31m# Processes huge files without loading entire file into memory\u001b[0m\u001b[0;34m\u001b[0m\u001b[0;34m\u001b[0m\u001b[0m\n\u001b[0;32m----> 7\u001b[0;31m \u001b[0;32mfor\u001b[0m \u001b[0mline\u001b[0m \u001b[0;32min\u001b[0m \u001b[0mread_large_file\u001b[0m\u001b[0;34m(\u001b[0m\u001b[0;34m'large_data.txt'\u001b[0m\u001b[0;34m)\u001b[0m\u001b[0;34m:\u001b[0m\u001b[0;34m\u001b[0m\u001b[0;34m\u001b[0m\u001b[0m\n\u001b[0m\u001b[1;32m      8\u001b[0m     \u001b[0mprint\u001b[0m\u001b[0;34m(\u001b[0m\u001b[0mline\u001b[0m\u001b[0;34m)\u001b[0m\u001b[0;34m\u001b[0m\u001b[0;34m\u001b[0m\u001b[0m\n",
            "\u001b[0;32m<ipython-input-18-8d5496b3b5b0>\u001b[0m in \u001b[0;36mread_large_file\u001b[0;34m(file_path)\u001b[0m\n\u001b[1;32m      1\u001b[0m \u001b[0;32mdef\u001b[0m \u001b[0mread_large_file\u001b[0m\u001b[0;34m(\u001b[0m\u001b[0mfile_path\u001b[0m\u001b[0;34m)\u001b[0m\u001b[0;34m:\u001b[0m\u001b[0;34m\u001b[0m\u001b[0;34m\u001b[0m\u001b[0m\n\u001b[0;32m----> 2\u001b[0;31m     \u001b[0;32mwith\u001b[0m \u001b[0mopen\u001b[0m\u001b[0;34m(\u001b[0m\u001b[0mfile_path\u001b[0m\u001b[0;34m,\u001b[0m \u001b[0;34m'r'\u001b[0m\u001b[0;34m)\u001b[0m \u001b[0;32mas\u001b[0m \u001b[0mfile\u001b[0m\u001b[0;34m:\u001b[0m\u001b[0;34m\u001b[0m\u001b[0;34m\u001b[0m\u001b[0m\n\u001b[0m\u001b[1;32m      3\u001b[0m         \u001b[0;32mfor\u001b[0m \u001b[0mline\u001b[0m \u001b[0;32min\u001b[0m \u001b[0mfile\u001b[0m\u001b[0;34m:\u001b[0m\u001b[0;34m\u001b[0m\u001b[0;34m\u001b[0m\u001b[0m\n\u001b[1;32m      4\u001b[0m             \u001b[0;32myield\u001b[0m \u001b[0mline\u001b[0m\u001b[0;34m.\u001b[0m\u001b[0mstrip\u001b[0m\u001b[0;34m(\u001b[0m\u001b[0;34m)\u001b[0m\u001b[0;34m\u001b[0m\u001b[0;34m\u001b[0m\u001b[0m\n\u001b[1;32m      5\u001b[0m \u001b[0;34m\u001b[0m\u001b[0m\n",
            "\u001b[0;31mFileNotFoundError\u001b[0m: [Errno 2] No such file or directory: 'large_data.txt'"
          ]
        }
      ]
    },
    {
      "cell_type": "code",
      "source": [
        "# Memory efficient alternative to list comprehension\n",
        "squares = (x*x for x in range(10))\n",
        "print(sum(squares))  # 285\n",
        "\n",
        "# Can be used directly in functions that take iterables\n",
        "print(max(x * 2 for x in range(5)))  # 8"
      ],
      "metadata": {
        "id": "q2szYWBOvEUi",
        "colab": {
          "base_uri": "https://localhost:8080/"
        },
        "outputId": "5377e2a7-b070-4344-92e2-8319e3218836"
      },
      "execution_count": 19,
      "outputs": [
        {
          "output_type": "stream",
          "name": "stdout",
          "text": [
            "285\n",
            "8\n"
          ]
        }
      ]
    },
    {
      "cell_type": "code",
      "source": [
        "def paginate(items, page_size):\n",
        "    for i in range(0, len(items), page_size):\n",
        "        yield items[i:i + page_size]\n",
        "\n",
        "data = list(range(1, 21))\n",
        "for page in paginate(data, 5):\n",
        "    print(page)  # [1,2,3,4,5], [6,7,8,9,10], etc."
      ],
      "metadata": {
        "id": "9gg3M8aQvQGJ",
        "colab": {
          "base_uri": "https://localhost:8080/"
        },
        "outputId": "78c8b0e3-3bb3-442d-a9b9-97f008fac0ed"
      },
      "execution_count": 20,
      "outputs": [
        {
          "output_type": "stream",
          "name": "stdout",
          "text": [
            "[1, 2, 3, 4, 5]\n",
            "[6, 7, 8, 9, 10]\n",
            "[11, 12, 13, 14, 15]\n",
            "[16, 17, 18, 19, 20]\n"
          ]
        }
      ]
    },
    {
      "cell_type": "code",
      "source": [
        "def batch_generator(data, batch_size):\n",
        "    for i in range(0, len(data), batch_size):\n",
        "        yield data[i:i + batch_size]\n",
        "\n",
        "data = list(range(100))\n",
        "for batch in batch_generator(data, 10):\n",
        "    print(batch)  # Processes 10 items at a time"
      ],
      "metadata": {
        "colab": {
          "base_uri": "https://localhost:8080/"
        },
        "id": "TM_GGvoLvjJh",
        "outputId": "9a79efc0-eba4-459d-fbcf-704d0a99174c"
      },
      "execution_count": 21,
      "outputs": [
        {
          "output_type": "stream",
          "name": "stdout",
          "text": [
            "[0, 1, 2, 3, 4, 5, 6, 7, 8, 9]\n",
            "[10, 11, 12, 13, 14, 15, 16, 17, 18, 19]\n",
            "[20, 21, 22, 23, 24, 25, 26, 27, 28, 29]\n",
            "[30, 31, 32, 33, 34, 35, 36, 37, 38, 39]\n",
            "[40, 41, 42, 43, 44, 45, 46, 47, 48, 49]\n",
            "[50, 51, 52, 53, 54, 55, 56, 57, 58, 59]\n",
            "[60, 61, 62, 63, 64, 65, 66, 67, 68, 69]\n",
            "[70, 71, 72, 73, 74, 75, 76, 77, 78, 79]\n",
            "[80, 81, 82, 83, 84, 85, 86, 87, 88, 89]\n",
            "[90, 91, 92, 93, 94, 95, 96, 97, 98, 99]\n"
          ]
        }
      ]
    },
    {
      "cell_type": "code",
      "source": [
        "def fibonacci():\n",
        "    a, b = 0, 1\n",
        "    while True:\n",
        "        yield a\n",
        "        a, b = b, a + b\n",
        "\n",
        "fib = fibonacci()\n",
        "print([next(fib) for _ in range(10)])  # [0, 1, 1, 2, 3, 5, 8, 13, 21, 34]"
      ],
      "metadata": {
        "colab": {
          "base_uri": "https://localhost:8080/"
        },
        "id": "HzP51Caxvv6B",
        "outputId": "48009b7d-320d-46e1-984e-4eb9ff48788f"
      },
      "execution_count": 22,
      "outputs": [
        {
          "output_type": "stream",
          "name": "stdout",
          "text": [
            "[0, 1, 1, 2, 3, 5, 8, 13, 21, 34]\n"
          ]
        }
      ]
    },
    {
      "cell_type": "code",
      "source": [
        "def task_scheduler(tasks):\n",
        "    while tasks:\n",
        "        task = tasks.pop(0)\n",
        "        try:\n",
        "            yield next(task)\n",
        "            tasks.append(task)\n",
        "        except StopIteration:\n",
        "            pass\n",
        "\n",
        "def task(name, count):\n",
        "    for i in range(count):\n",
        "        print(f\"{name} executing step {i}\")\n",
        "        yield\n",
        "\n",
        "tasks = [task(\"A\", 3), task(\"B\", 2), task(\"C\", 4)]\n",
        "for _ in task_scheduler(tasks):\n",
        "    pass"
      ],
      "metadata": {
        "id": "0Yaz9WwGwEhI",
        "outputId": "bb0c8a86-d79d-4745-eb10-f3cc62736ba8",
        "colab": {
          "base_uri": "https://localhost:8080/"
        }
      },
      "execution_count": 23,
      "outputs": [
        {
          "output_type": "stream",
          "name": "stdout",
          "text": [
            "A executing step 0\n",
            "B executing step 0\n",
            "C executing step 0\n",
            "A executing step 1\n",
            "B executing step 1\n",
            "C executing step 1\n",
            "A executing step 2\n",
            "C executing step 2\n",
            "C executing step 3\n"
          ]
        }
      ]
    },
    {
      "cell_type": "markdown",
      "source": [
        "# 4. Argument Parsing - in VS"
      ],
      "metadata": {
        "id": "ijUzEKlfU26_"
      }
    },
    {
      "cell_type": "markdown",
      "source": [
        "#5. Encapsulation"
      ],
      "metadata": {
        "id": "yT7T9KUZB6pm"
      }
    },
    {
      "cell_type": "markdown",
      "source": [
        "## 1. Public"
      ],
      "metadata": {
        "id": "s0DmzOYZCkea"
      }
    },
    {
      "cell_type": "code",
      "source": [
        "class Person:\n",
        "    def __init__(self, name, age):\n",
        "        self.name = name    # public attribute\n",
        "        self.age = age      # public attribute\n",
        "\n",
        "    def display(self):      # public method\n",
        "        print(f\"Name: {self.name}, Age: {self.age}\")\n",
        "\n",
        "p = Person(\"Alice\", 30)\n",
        "p.display()     # Accessing public method\n",
        "print(p.name)   # Accessing public attribute directly"
      ],
      "metadata": {
        "id": "BvsCgmglU0lp",
        "colab": {
          "base_uri": "https://localhost:8080/"
        },
        "outputId": "4dd373d4-f720-42eb-e27d-38872b23df88"
      },
      "execution_count": 24,
      "outputs": [
        {
          "output_type": "stream",
          "name": "stdout",
          "text": [
            "Name: Alice, Age: 30\n",
            "Alice\n"
          ]
        }
      ]
    },
    {
      "cell_type": "markdown",
      "source": [
        "## 2. Protected - single underscore _"
      ],
      "metadata": {
        "id": "kLRtpDPOCnx_"
      }
    },
    {
      "cell_type": "code",
      "source": [
        "class Person:\n",
        "    def __init__(self, name, age):\n",
        "        self._name = name    # protected attribute\n",
        "        self._age = age      # protected attribute\n",
        "\n",
        "    def _display(self):      # protected method\n",
        "        print(f\"Name: {self._name}, Age: {self._age}\")\n",
        "\n",
        "p = Person(\"Bob\", 25)\n",
        "p._display()    # Can still access, but convention says \"don't\"\n",
        "print(p._name)  # Same - accessible but should be treated as non-public"
      ],
      "metadata": {
        "colab": {
          "base_uri": "https://localhost:8080/"
        },
        "id": "9WBWkJQGCsxH",
        "outputId": "2955c541-0ffc-4580-ce41-c685b966fe3b"
      },
      "execution_count": 25,
      "outputs": [
        {
          "output_type": "stream",
          "name": "stdout",
          "text": [
            "Name: Bob, Age: 25\n",
            "Bob\n"
          ]
        }
      ]
    },
    {
      "cell_type": "markdown",
      "source": [
        "## 3. Private - double underscore __"
      ],
      "metadata": {
        "id": "_eUSyMcPCs8m"
      }
    },
    {
      "cell_type": "code",
      "source": [
        "class Person:\n",
        "    def __init__(self, name, age):\n",
        "        self.__name = name\n",
        "        self.__age = age\n",
        "\n",
        "    @property\n",
        "    def name(self):\n",
        "        return self.__name\n",
        "\n",
        "    @name.setter\n",
        "    def name(self, value):\n",
        "        if isinstance(value, str) and len(value) > 0:\n",
        "            self.__name = value\n",
        "        else:\n",
        "            raise ValueError(\"Name must be a non-empty string\")\n",
        "\n",
        "    @property\n",
        "    def age(self):\n",
        "        return self.__age\n",
        "\n",
        "    @age.setter\n",
        "    def age(self, value):\n",
        "        if isinstance(value, int) and 0 < value < 120:\n",
        "            self.__age = value\n",
        "        else:\n",
        "            raise ValueError(\"Age must be between 1 and 119\")\n",
        "\n",
        "p = Person(\"David\", 35)\n",
        "# print(p.__name) # Error - would raise AttributeError\n",
        "print(p.name)   # Access through getter\n",
        "p.age = 36      # Modify through setter\n",
        "# p.age = 150   # Would raise ValueError\n",
        "p.age"
      ],
      "metadata": {
        "colab": {
          "base_uri": "https://localhost:8080/"
        },
        "id": "DBxf3aY0C-ae",
        "outputId": "ecb17b8e-2c41-449d-ee98-d0779801585d"
      },
      "execution_count": 26,
      "outputs": [
        {
          "output_type": "stream",
          "name": "stdout",
          "text": [
            "David\n"
          ]
        },
        {
          "output_type": "execute_result",
          "data": {
            "text/plain": [
              "36"
            ]
          },
          "metadata": {},
          "execution_count": 26
        }
      ]
    },
    {
      "cell_type": "markdown",
      "source": [
        "Remember that in Python, encapsulation is more about convention than enforcement - the interpreter won't stop you from accessing \"protected\" or \"private\" members, but following these conventions makes your code more maintainable and less prone to errors.\n",
        "\n"
      ],
      "metadata": {
        "id": "wLtbDGF-HDjJ"
      }
    },
    {
      "cell_type": "markdown",
      "source": [
        "# 6. Factory Design Pattern - Klasy wirtualne"
      ],
      "metadata": {
        "id": "rvlcYTmhHJ1a"
      }
    },
    {
      "cell_type": "code",
      "source": [
        "from abc import ABC, abstractclassmethod\n",
        "\n",
        "class Animal(ABC):\n",
        "    @abstractclassmethod\n",
        "    def make_sound(self):\n",
        "        pass\n",
        "\n",
        "class Dog(Animal):\n",
        "    def make_sound(self):\n",
        "        print(\"Woof!\")\n",
        "\n",
        "class Cat(Animal):\n",
        "    def make_sound(self):\n",
        "        print(\"Meow!\")\n",
        "\n",
        "class AnimalFactory:\n",
        "    @staticmethod\n",
        "    def create_animal(animal_type):\n",
        "        if animal_type == \"dog\":\n",
        "            return Dog()\n",
        "        elif animal_type == \"cat\":\n",
        "            return Cat()\n",
        "        else:\n",
        "            raise ValueError(\"Invalid animal type\")\n",
        "\n",
        "animal = AnimalFactory.create_animal(\"dog\")\n",
        "animal.make_sound()"
      ],
      "metadata": {
        "id": "cCrtEit8Dx17",
        "colab": {
          "base_uri": "https://localhost:8080/"
        },
        "outputId": "2e76a739-8833-44bd-bf5c-1a922f7d1f69"
      },
      "execution_count": 27,
      "outputs": [
        {
          "output_type": "stream",
          "name": "stdout",
          "text": [
            "Woof!\n"
          ]
        }
      ]
    },
    {
      "cell_type": "code",
      "source": [],
      "metadata": {
        "id": "88JGupD-slbt"
      },
      "execution_count": 27,
      "outputs": []
    }
  ]
}